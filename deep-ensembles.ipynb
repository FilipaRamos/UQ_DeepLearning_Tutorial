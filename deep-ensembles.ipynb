{
 "cells": [
  {
   "cell_type": "markdown",
   "id": "d18be3da-3e08-48e0-ab3d-52a34afffee9",
   "metadata": {
    "tags": []
   },
   "source": [
    "### Deep Ensembles\n",
    "### Playing with house prices\n",
    "\n",
    "\n",
    "In this notebook we explore the estimation of both aleatoric and epistemic uncertainty through Deep Ensembles. A simple perceptron is used to model the regression problem which outputs the price prediction. The same dataset from the Direct Modelling experiment is used in order to allow for the comparison of the achieved estimation of aleatoric uncertainty.\n",
    "\n",
    "![house prices](datasets/real_estate/house_prices.png)"
   ]
  },
  {
   "cell_type": "markdown",
   "id": "882dd7d2-ff3e-4c42-99b9-96c7fd7df7b4",
   "metadata": {},
   "source": [
    "The decomposition of uncertainty is carried out through the application of the following entropy-based formulas:\n",
    "\n",
    "$$ \\text{Total Uncertainty (TU)} = \\mathcal{H} [p(y_i | x_i, D)] = \\mathcal{H} [\\mathbb{E}_{p(\\theta | D)} [p(y_i | x_i, \\theta)] $$\n",
    "\n",
    "\n",
    "$$ \\text{Aleatoric Uncertainty (AU)} = \\mathbb{E}_{p(\\theta | D)} [\\mathcal{H} [p(y_i | x_i, \\theta)]] $$\n",
    "$$ \\text{Epistemic Uncertainty (EU)} = \\text{TU} - \\text{AU} $$"
   ]
  },
  {
   "cell_type": "code",
   "execution_count": 1,
   "id": "f6f0cd54-8d47-4bbd-a955-653a38afd7f4",
   "metadata": {},
   "outputs": [],
   "source": [
    "import tqdm\n",
    "import math\n",
    "import torch\n",
    "import pandas as pd"
   ]
  },
  {
   "cell_type": "code",
   "execution_count": 2,
   "id": "31a09b23-0455-4bda-9030-4c452020addd",
   "metadata": {},
   "outputs": [],
   "source": [
    "import numpy as np\n",
    "import seaborn as sns\n",
    "from time import sleep\n",
    "from pathlib import Path\n",
    "\n",
    "from torch import nn\n",
    "from torch.utils.data import DataLoader\n",
    "\n",
    "from sklearn.preprocessing import StandardScaler\n",
    "from sklearn.model_selection import train_test_split"
   ]
  },
  {
   "cell_type": "code",
   "execution_count": 3,
   "id": "92ae2aaf-865f-403a-934e-e11bdcca4296",
   "metadata": {},
   "outputs": [],
   "source": [
    "# Paths, global vars\n",
    "dt_folder = Path(\"./datasets\")\n",
    "dt_name = 'real_estate'"
   ]
  },
  {
   "cell_type": "code",
   "execution_count": 4,
   "id": "20fd0061-43b7-483b-82f5-eec495bc2be2",
   "metadata": {},
   "outputs": [],
   "source": [
    "# Checks\n",
    "assert dt_folder.exists()\n",
    "assert dt_folder.is_dir()\n",
    "assert (dt_folder / dt_name / (dt_name + '.csv')).exists()"
   ]
  },
  {
   "cell_type": "markdown",
   "id": "94ac2b34-0edc-46cc-bee4-66233c9463ff",
   "metadata": {},
   "source": [
    "#### Load Dataset"
   ]
  },
  {
   "cell_type": "code",
   "execution_count": 5,
   "id": "ef976398-3f67-4363-a1a5-e37896566784",
   "metadata": {},
   "outputs": [],
   "source": [
    "df = pd.read_csv(dt_folder / dt_name / (dt_name + '.csv'))"
   ]
  },
  {
   "cell_type": "code",
   "execution_count": 6,
   "id": "6f488c40-3f18-4d01-9230-423962be11d6",
   "metadata": {},
   "outputs": [
    {
     "data": {
      "text/html": [
       "<div>\n",
       "<style scoped>\n",
       "    .dataframe tbody tr th:only-of-type {\n",
       "        vertical-align: middle;\n",
       "    }\n",
       "\n",
       "    .dataframe tbody tr th {\n",
       "        vertical-align: top;\n",
       "    }\n",
       "\n",
       "    .dataframe thead th {\n",
       "        text-align: right;\n",
       "    }\n",
       "</style>\n",
       "<table border=\"1\" class=\"dataframe\">\n",
       "  <thead>\n",
       "    <tr style=\"text-align: right;\">\n",
       "      <th></th>\n",
       "      <th>No</th>\n",
       "      <th>X1 transaction date</th>\n",
       "      <th>X2 house age</th>\n",
       "      <th>X3 distance to the nearest MRT station</th>\n",
       "      <th>X4 number of convenience stores</th>\n",
       "      <th>X5 latitude</th>\n",
       "      <th>X6 longitude</th>\n",
       "      <th>Y house price of unit area</th>\n",
       "    </tr>\n",
       "  </thead>\n",
       "  <tbody>\n",
       "    <tr>\n",
       "      <th>0</th>\n",
       "      <td>1</td>\n",
       "      <td>2012.917</td>\n",
       "      <td>32.0</td>\n",
       "      <td>84.87882</td>\n",
       "      <td>10</td>\n",
       "      <td>24.98298</td>\n",
       "      <td>121.54024</td>\n",
       "      <td>37.9</td>\n",
       "    </tr>\n",
       "    <tr>\n",
       "      <th>1</th>\n",
       "      <td>2</td>\n",
       "      <td>2012.917</td>\n",
       "      <td>19.5</td>\n",
       "      <td>306.59470</td>\n",
       "      <td>9</td>\n",
       "      <td>24.98034</td>\n",
       "      <td>121.53951</td>\n",
       "      <td>42.2</td>\n",
       "    </tr>\n",
       "    <tr>\n",
       "      <th>2</th>\n",
       "      <td>3</td>\n",
       "      <td>2013.583</td>\n",
       "      <td>13.3</td>\n",
       "      <td>561.98450</td>\n",
       "      <td>5</td>\n",
       "      <td>24.98746</td>\n",
       "      <td>121.54391</td>\n",
       "      <td>47.3</td>\n",
       "    </tr>\n",
       "    <tr>\n",
       "      <th>3</th>\n",
       "      <td>4</td>\n",
       "      <td>2013.500</td>\n",
       "      <td>13.3</td>\n",
       "      <td>561.98450</td>\n",
       "      <td>5</td>\n",
       "      <td>24.98746</td>\n",
       "      <td>121.54391</td>\n",
       "      <td>54.8</td>\n",
       "    </tr>\n",
       "    <tr>\n",
       "      <th>4</th>\n",
       "      <td>5</td>\n",
       "      <td>2012.833</td>\n",
       "      <td>5.0</td>\n",
       "      <td>390.56840</td>\n",
       "      <td>5</td>\n",
       "      <td>24.97937</td>\n",
       "      <td>121.54245</td>\n",
       "      <td>43.1</td>\n",
       "    </tr>\n",
       "    <tr>\n",
       "      <th>...</th>\n",
       "      <td>...</td>\n",
       "      <td>...</td>\n",
       "      <td>...</td>\n",
       "      <td>...</td>\n",
       "      <td>...</td>\n",
       "      <td>...</td>\n",
       "      <td>...</td>\n",
       "      <td>...</td>\n",
       "    </tr>\n",
       "    <tr>\n",
       "      <th>409</th>\n",
       "      <td>410</td>\n",
       "      <td>2013.000</td>\n",
       "      <td>13.7</td>\n",
       "      <td>4082.01500</td>\n",
       "      <td>0</td>\n",
       "      <td>24.94155</td>\n",
       "      <td>121.50381</td>\n",
       "      <td>15.4</td>\n",
       "    </tr>\n",
       "    <tr>\n",
       "      <th>410</th>\n",
       "      <td>411</td>\n",
       "      <td>2012.667</td>\n",
       "      <td>5.6</td>\n",
       "      <td>90.45606</td>\n",
       "      <td>9</td>\n",
       "      <td>24.97433</td>\n",
       "      <td>121.54310</td>\n",
       "      <td>50.0</td>\n",
       "    </tr>\n",
       "    <tr>\n",
       "      <th>411</th>\n",
       "      <td>412</td>\n",
       "      <td>2013.250</td>\n",
       "      <td>18.8</td>\n",
       "      <td>390.96960</td>\n",
       "      <td>7</td>\n",
       "      <td>24.97923</td>\n",
       "      <td>121.53986</td>\n",
       "      <td>40.6</td>\n",
       "    </tr>\n",
       "    <tr>\n",
       "      <th>412</th>\n",
       "      <td>413</td>\n",
       "      <td>2013.000</td>\n",
       "      <td>8.1</td>\n",
       "      <td>104.81010</td>\n",
       "      <td>5</td>\n",
       "      <td>24.96674</td>\n",
       "      <td>121.54067</td>\n",
       "      <td>52.5</td>\n",
       "    </tr>\n",
       "    <tr>\n",
       "      <th>413</th>\n",
       "      <td>414</td>\n",
       "      <td>2013.500</td>\n",
       "      <td>6.5</td>\n",
       "      <td>90.45606</td>\n",
       "      <td>9</td>\n",
       "      <td>24.97433</td>\n",
       "      <td>121.54310</td>\n",
       "      <td>63.9</td>\n",
       "    </tr>\n",
       "  </tbody>\n",
       "</table>\n",
       "<p>414 rows × 8 columns</p>\n",
       "</div>"
      ],
      "text/plain": [
       "      No  X1 transaction date  X2 house age  \\\n",
       "0      1             2012.917          32.0   \n",
       "1      2             2012.917          19.5   \n",
       "2      3             2013.583          13.3   \n",
       "3      4             2013.500          13.3   \n",
       "4      5             2012.833           5.0   \n",
       "..   ...                  ...           ...   \n",
       "409  410             2013.000          13.7   \n",
       "410  411             2012.667           5.6   \n",
       "411  412             2013.250          18.8   \n",
       "412  413             2013.000           8.1   \n",
       "413  414             2013.500           6.5   \n",
       "\n",
       "     X3 distance to the nearest MRT station  X4 number of convenience stores  \\\n",
       "0                                  84.87882                               10   \n",
       "1                                 306.59470                                9   \n",
       "2                                 561.98450                                5   \n",
       "3                                 561.98450                                5   \n",
       "4                                 390.56840                                5   \n",
       "..                                      ...                              ...   \n",
       "409                              4082.01500                                0   \n",
       "410                                90.45606                                9   \n",
       "411                               390.96960                                7   \n",
       "412                               104.81010                                5   \n",
       "413                                90.45606                                9   \n",
       "\n",
       "     X5 latitude  X6 longitude  Y house price of unit area  \n",
       "0       24.98298     121.54024                        37.9  \n",
       "1       24.98034     121.53951                        42.2  \n",
       "2       24.98746     121.54391                        47.3  \n",
       "3       24.98746     121.54391                        54.8  \n",
       "4       24.97937     121.54245                        43.1  \n",
       "..           ...           ...                         ...  \n",
       "409     24.94155     121.50381                        15.4  \n",
       "410     24.97433     121.54310                        50.0  \n",
       "411     24.97923     121.53986                        40.6  \n",
       "412     24.96674     121.54067                        52.5  \n",
       "413     24.97433     121.54310                        63.9  \n",
       "\n",
       "[414 rows x 8 columns]"
      ]
     },
     "execution_count": 6,
     "metadata": {},
     "output_type": "execute_result"
    }
   ],
   "source": [
    "df"
   ]
  },
  {
   "cell_type": "code",
   "execution_count": 7,
   "id": "168b7954-cf90-462f-a203-674d0a838d46",
   "metadata": {},
   "outputs": [
    {
     "data": {
      "text/plain": [
       "No                                          int64\n",
       "X1 transaction date                       float64\n",
       "X2 house age                              float64\n",
       "X3 distance to the nearest MRT station    float64\n",
       "X4 number of convenience stores             int64\n",
       "X5 latitude                               float64\n",
       "X6 longitude                              float64\n",
       "Y house price of unit area                float64\n",
       "dtype: object"
      ]
     },
     "execution_count": 7,
     "metadata": {},
     "output_type": "execute_result"
    }
   ],
   "source": [
    "df.dtypes"
   ]
  },
  {
   "cell_type": "markdown",
   "id": "46ba61b0-1a3e-4ec4-980c-4dfa0d35b837",
   "metadata": {},
   "source": [
    "#### Prepare data"
   ]
  },
  {
   "cell_type": "code",
   "execution_count": 8,
   "id": "df443f93-f307-490e-a433-251dfc049666",
   "metadata": {},
   "outputs": [],
   "source": [
    "train, test = train_test_split(df, test_size=0.2)"
   ]
  },
  {
   "cell_type": "code",
   "execution_count": 9,
   "id": "cb9c81e7-d473-46ea-889b-711ac82b945a",
   "metadata": {},
   "outputs": [],
   "source": [
    "class HouseDataset(torch.utils.data.Dataset):\n",
    "    def __init__(self, df, scale=False):\n",
    "        x = df.iloc[:, 1:7]\n",
    "        y = df.iloc[:, 7]\n",
    "        if scale:\n",
    "            x = StandardScaler().fit_transform(x)\n",
    "        self.x = torch.FloatTensor(x)\n",
    "        self.y = torch.FloatTensor(y.values)\n",
    "        \n",
    "    def __len__(self):\n",
    "        return len(self.x)\n",
    "    \n",
    "    def __getitem__(self, i):\n",
    "        return self.x[i], self.y[i]"
   ]
  },
  {
   "cell_type": "markdown",
   "id": "4227d814-1661-407b-a1ae-906d1f8b4964",
   "metadata": {},
   "source": [
    "#### Model"
   ]
  },
  {
   "cell_type": "code",
   "execution_count": 10,
   "id": "60f860ab-1edf-4c45-aab7-cb8a7ab5fde6",
   "metadata": {},
   "outputs": [],
   "source": [
    "class MLP(nn.Module):\n",
    "    def __init__(self):\n",
    "        super().__init__()\n",
    "        self.layers = nn.Sequential(\n",
    "            nn.Linear(6, 64),\n",
    "            nn.ReLU(),\n",
    "            nn.Linear(64, 128),\n",
    "            nn.ReLU(),\n",
    "            nn.Linear(128, 64),\n",
    "            nn.ReLU(),\n",
    "            nn.Linear(64, 32),\n",
    "            nn.ReLU(),\n",
    "            nn.Linear(32, 2)\n",
    "        )\n",
    "    \n",
    "    def forward(self, x):\n",
    "        return self.layers(x)        "
   ]
  },
  {
   "cell_type": "markdown",
   "id": "dd6f2ad4-8328-43be-89b2-8d1609e03ccb",
   "metadata": {},
   "source": [
    "#### Train Loop"
   ]
  },
  {
   "cell_type": "code",
   "execution_count": 11,
   "id": "3c08c1ea-77c2-4e38-8247-2fa936ec8314",
   "metadata": {},
   "outputs": [],
   "source": [
    "epochs = 200\n",
    "batch_size = 64\n",
    "num_models = 5"
   ]
  },
  {
   "cell_type": "code",
   "execution_count": 12,
   "id": "95971d56-5574-498e-bbe2-73a2c2b2ec68",
   "metadata": {},
   "outputs": [],
   "source": [
    "device = torch.device(\"cuda\" if torch.cuda.is_available() else \"cpu\")"
   ]
  },
  {
   "cell_type": "code",
   "execution_count": 13,
   "id": "946b0926-4102-4089-afb7-3f3b156af83d",
   "metadata": {},
   "outputs": [],
   "source": [
    "# Adapted loss for direct modelling of aleatoric uncertainties\n",
    "# From NLL with Gaussian noise\n",
    "def ps_loss(output, target):\n",
    "    # output: pred, var\n",
    "    pred = output[:, 0]\n",
    "    log_var = output[:, 1]\n",
    "    var = torch.exp(0.5 * log_var) + 1e-5\n",
    "    \n",
    "    left = (1 / (2 * var ** 2)) * torch.abs(target - pred) ** 2\n",
    "    right = (1 / 2) * torch.log(var ** 2)\n",
    "    \n",
    "    return torch.mean(left + right)"
   ]
  },
  {
   "cell_type": "code",
   "execution_count": 14,
   "id": "db2c3c72-dc2d-4ea1-bb06-c52807cca730",
   "metadata": {},
   "outputs": [
    {
     "data": {
      "text/plain": [
       "[MLP(\n",
       "   (layers): Sequential(\n",
       "     (0): Linear(in_features=6, out_features=64, bias=True)\n",
       "     (1): ReLU()\n",
       "     (2): Linear(in_features=64, out_features=128, bias=True)\n",
       "     (3): ReLU()\n",
       "     (4): Linear(in_features=128, out_features=64, bias=True)\n",
       "     (5): ReLU()\n",
       "     (6): Linear(in_features=64, out_features=32, bias=True)\n",
       "     (7): ReLU()\n",
       "     (8): Linear(in_features=32, out_features=2, bias=True)\n",
       "   )\n",
       " ),\n",
       " MLP(\n",
       "   (layers): Sequential(\n",
       "     (0): Linear(in_features=6, out_features=64, bias=True)\n",
       "     (1): ReLU()\n",
       "     (2): Linear(in_features=64, out_features=128, bias=True)\n",
       "     (3): ReLU()\n",
       "     (4): Linear(in_features=128, out_features=64, bias=True)\n",
       "     (5): ReLU()\n",
       "     (6): Linear(in_features=64, out_features=32, bias=True)\n",
       "     (7): ReLU()\n",
       "     (8): Linear(in_features=32, out_features=2, bias=True)\n",
       "   )\n",
       " ),\n",
       " MLP(\n",
       "   (layers): Sequential(\n",
       "     (0): Linear(in_features=6, out_features=64, bias=True)\n",
       "     (1): ReLU()\n",
       "     (2): Linear(in_features=64, out_features=128, bias=True)\n",
       "     (3): ReLU()\n",
       "     (4): Linear(in_features=128, out_features=64, bias=True)\n",
       "     (5): ReLU()\n",
       "     (6): Linear(in_features=64, out_features=32, bias=True)\n",
       "     (7): ReLU()\n",
       "     (8): Linear(in_features=32, out_features=2, bias=True)\n",
       "   )\n",
       " ),\n",
       " MLP(\n",
       "   (layers): Sequential(\n",
       "     (0): Linear(in_features=6, out_features=64, bias=True)\n",
       "     (1): ReLU()\n",
       "     (2): Linear(in_features=64, out_features=128, bias=True)\n",
       "     (3): ReLU()\n",
       "     (4): Linear(in_features=128, out_features=64, bias=True)\n",
       "     (5): ReLU()\n",
       "     (6): Linear(in_features=64, out_features=32, bias=True)\n",
       "     (7): ReLU()\n",
       "     (8): Linear(in_features=32, out_features=2, bias=True)\n",
       "   )\n",
       " ),\n",
       " MLP(\n",
       "   (layers): Sequential(\n",
       "     (0): Linear(in_features=6, out_features=64, bias=True)\n",
       "     (1): ReLU()\n",
       "     (2): Linear(in_features=64, out_features=128, bias=True)\n",
       "     (3): ReLU()\n",
       "     (4): Linear(in_features=128, out_features=64, bias=True)\n",
       "     (5): ReLU()\n",
       "     (6): Linear(in_features=64, out_features=32, bias=True)\n",
       "     (7): ReLU()\n",
       "     (8): Linear(in_features=32, out_features=2, bias=True)\n",
       "   )\n",
       " )]"
      ]
     },
     "execution_count": 14,
     "metadata": {},
     "output_type": "execute_result"
    }
   ],
   "source": [
    "torch.manual_seed(42)\n",
    "\n",
    "mean_batch_ensemble_loss = []\n",
    "mean_batch_loss = np.array([])\n",
    "\n",
    "dt_train = HouseDataset(train, scale=True)\n",
    "train_loader = torch.utils.data.DataLoader(dt_train, batch_size=batch_size, num_workers=2)\n",
    "\n",
    "models = [MLP().to(device) for _ in range(num_models)]\n",
    "optimizers = [torch.optim.Adam(mlp.parameters(), lr=1e-3) for mlp in models]\n",
    "\n",
    "# Train each ensemble model with the same data\n",
    "[mlp.train() for mlp in models]"
   ]
  },
  {
   "cell_type": "code",
   "execution_count": 15,
   "id": "d1b3f1a8-a54e-42e2-b14e-6f1595de4180",
   "metadata": {},
   "outputs": [],
   "source": [
    "from functorch import combine_state_for_ensemble\n",
    "\n",
    "fmodel, params, buffers = combine_state_for_ensemble(models)\n",
    "[p.requires_grad_() for p in params];"
   ]
  },
  {
   "cell_type": "code",
   "execution_count": 16,
   "id": "38cc0783-843a-4d4d-8a84-3edc07f6c83e",
   "metadata": {},
   "outputs": [
    {
     "name": "stderr",
     "output_type": "stream",
     "text": [
      "Epoch 0: 100%|█| 6/6 [00:01<00:00,  3.38it/s, loss=tensor(946.2590, device='cuda:\n",
      "Epoch 1: 100%|█| 6/6 [00:00<00:00,  6.34it/s, loss=tensor(813.3571, device='cuda:\n",
      "Epoch 2: 100%|█| 6/6 [00:00<00:00,  6.00it/s, loss=tensor(596.0919, device='cuda:\n",
      "Epoch 3: 100%|█| 6/6 [00:00<00:00,  6.15it/s, loss=tensor(318.0023, device='cuda:\n",
      "Epoch 4: 100%|█| 6/6 [00:01<00:00,  5.58it/s, loss=tensor(104.2753, device='cuda:\n",
      "Epoch 5: 100%|█| 6/6 [00:01<00:00,  5.85it/s, loss=tensor(23.4666, device='cuda:0\n",
      "Epoch 6: 100%|█| 6/6 [00:00<00:00,  6.17it/s, loss=tensor(7.4640, device='cuda:0'\n",
      "Epoch 7: 100%|█| 6/6 [00:01<00:00,  5.93it/s, loss=tensor(5.1398, device='cuda:0'\n",
      "Epoch 8: 100%|█| 6/6 [00:00<00:00,  6.52it/s, loss=tensor(4.9270, device='cuda:0'\n",
      "Epoch 9: 100%|█| 6/6 [00:00<00:00,  6.00it/s, loss=tensor(4.9993, device='cuda:0'\n",
      "Epoch 10: 100%|█| 6/6 [00:01<00:00,  5.83it/s, loss=tensor(5.0678, device='cuda:0\n",
      "Epoch 11: 100%|█| 6/6 [00:01<00:00,  5.99it/s, loss=tensor(5.0979, device='cuda:0\n",
      "Epoch 12: 100%|█| 6/6 [00:01<00:00,  5.72it/s, loss=tensor(5.0975, device='cuda:0\n",
      "Epoch 13: 100%|█| 6/6 [00:01<00:00,  5.96it/s, loss=tensor(5.0788, device='cuda:0\n",
      "Epoch 14: 100%|█| 6/6 [00:00<00:00,  6.12it/s, loss=tensor(5.0501, device='cuda:0\n",
      "Epoch 15: 100%|█| 6/6 [00:00<00:00,  6.02it/s, loss=tensor(5.0170, device='cuda:0\n",
      "Epoch 16: 100%|█| 6/6 [00:01<00:00,  5.84it/s, loss=tensor(4.9829, device='cuda:0\n",
      "Epoch 17: 100%|█| 6/6 [00:01<00:00,  5.51it/s, loss=tensor(4.9495, device='cuda:0\n",
      "Epoch 18: 100%|█| 6/6 [00:00<00:00,  6.04it/s, loss=tensor(4.9178, device='cuda:0\n",
      "Epoch 19: 100%|█| 6/6 [00:01<00:00,  5.68it/s, loss=tensor(4.8884, device='cuda:0\n",
      "Epoch 20: 100%|█| 6/6 [00:00<00:00,  6.14it/s, loss=tensor(4.8613, device='cuda:0\n",
      "Epoch 21: 100%|█| 6/6 [00:01<00:00,  5.91it/s, loss=tensor(4.8364, device='cuda:0\n",
      "Epoch 22: 100%|█| 6/6 [00:01<00:00,  5.73it/s, loss=tensor(4.8137, device='cuda:0\n",
      "Epoch 23: 100%|█| 6/6 [00:01<00:00,  5.82it/s, loss=tensor(4.7930, device='cuda:0\n",
      "Epoch 24: 100%|█| 6/6 [00:01<00:00,  5.80it/s, loss=tensor(4.7741, device='cuda:0\n",
      "Epoch 25: 100%|█| 6/6 [00:00<00:00,  6.02it/s, loss=tensor(4.7568, device='cuda:0\n",
      "Epoch 26: 100%|█| 6/6 [00:01<00:00,  5.77it/s, loss=tensor(4.7409, device='cuda:0\n",
      "Epoch 27: 100%|█| 6/6 [00:00<00:00,  6.09it/s, loss=tensor(4.7262, device='cuda:0\n",
      "Epoch 28: 100%|█| 6/6 [00:01<00:00,  5.81it/s, loss=tensor(4.7125, device='cuda:0\n",
      "Epoch 29: 100%|█| 6/6 [00:01<00:00,  5.90it/s, loss=tensor(4.6997, device='cuda:0\n",
      "Epoch 30: 100%|█| 6/6 [00:01<00:00,  5.82it/s, loss=tensor(4.6876, device='cuda:0\n",
      "Epoch 31: 100%|█| 6/6 [00:01<00:00,  5.62it/s, loss=tensor(4.6762, device='cuda:0\n",
      "Epoch 32: 100%|█| 6/6 [00:01<00:00,  5.83it/s, loss=tensor(4.6653, device='cuda:0\n",
      "Epoch 33: 100%|█| 6/6 [00:01<00:00,  5.84it/s, loss=tensor(4.6549, device='cuda:0\n",
      "Epoch 34: 100%|█| 6/6 [00:00<00:00,  6.06it/s, loss=tensor(4.6450, device='cuda:0\n",
      "Epoch 35: 100%|█| 6/6 [00:00<00:00,  6.05it/s, loss=tensor(4.6354, device='cuda:0\n",
      "Epoch 36: 100%|█| 6/6 [00:01<00:00,  5.84it/s, loss=tensor(4.6260, device='cuda:0\n",
      "Epoch 37: 100%|█| 6/6 [00:01<00:00,  5.92it/s, loss=tensor(4.6170, device='cuda:0\n",
      "Epoch 38: 100%|█| 6/6 [00:01<00:00,  5.86it/s, loss=tensor(4.6082, device='cuda:0\n",
      "Epoch 39: 100%|█| 6/6 [00:01<00:00,  5.75it/s, loss=tensor(4.5995, device='cuda:0\n",
      "Epoch 40: 100%|█| 6/6 [00:00<00:00,  6.16it/s, loss=tensor(4.5912, device='cuda:0\n",
      "Epoch 41: 100%|█| 6/6 [00:00<00:00,  6.16it/s, loss=tensor(4.5830, device='cuda:0\n",
      "Epoch 42: 100%|█| 6/6 [00:01<00:00,  5.55it/s, loss=tensor(4.5750, device='cuda:0\n",
      "Epoch 43: 100%|█| 6/6 [00:01<00:00,  5.81it/s, loss=tensor(4.5669, device='cuda:0\n",
      "Epoch 44: 100%|█| 6/6 [00:00<00:00,  6.16it/s, loss=tensor(4.5588, device='cuda:0\n",
      "Epoch 45: 100%|█| 6/6 [00:01<00:00,  5.75it/s, loss=tensor(4.5508, device='cuda:0\n",
      "Epoch 46: 100%|█| 6/6 [00:01<00:00,  5.73it/s, loss=tensor(4.5427, device='cuda:0\n",
      "Epoch 47: 100%|█| 6/6 [00:01<00:00,  5.54it/s, loss=tensor(4.5340, device='cuda:0\n",
      "Epoch 48: 100%|█| 6/6 [00:01<00:00,  5.63it/s, loss=tensor(4.5251, device='cuda:0\n",
      "Epoch 49: 100%|█| 6/6 [00:01<00:00,  5.75it/s, loss=tensor(4.5166, device='cuda:0\n",
      "Epoch 50: 100%|█| 6/6 [00:00<00:00,  6.05it/s, loss=tensor(4.5083, device='cuda:0\n",
      "Epoch 51: 100%|█| 6/6 [00:00<00:00,  6.38it/s, loss=tensor(4.5002, device='cuda:0\n",
      "Epoch 52: 100%|█| 6/6 [00:01<00:00,  5.79it/s, loss=tensor(4.4923, device='cuda:0\n",
      "Epoch 53: 100%|█| 6/6 [00:01<00:00,  5.53it/s, loss=tensor(4.4857, device='cuda:0\n",
      "Epoch 54: 100%|█| 6/6 [00:01<00:00,  5.81it/s, loss=tensor(4.4785, device='cuda:0\n",
      "Epoch 55: 100%|█| 6/6 [00:01<00:00,  5.79it/s, loss=tensor(4.4707, device='cuda:0\n",
      "Epoch 56: 100%|█| 6/6 [00:01<00:00,  5.91it/s, loss=tensor(4.4624, device='cuda:0\n",
      "Epoch 57: 100%|█| 6/6 [00:00<00:00,  6.41it/s, loss=tensor(4.4539, device='cuda:0\n",
      "Epoch 58: 100%|█| 6/6 [00:01<00:00,  5.80it/s, loss=tensor(4.4458, device='cuda:0\n",
      "Epoch 59: 100%|█| 6/6 [00:00<00:00,  6.59it/s, loss=tensor(4.4382, device='cuda:0\n",
      "Epoch 60: 100%|█| 6/6 [00:01<00:00,  5.85it/s, loss=tensor(4.4309, device='cuda:0\n",
      "Epoch 61: 100%|█| 6/6 [00:00<00:00,  6.21it/s, loss=tensor(4.4238, device='cuda:0\n",
      "Epoch 62: 100%|█| 6/6 [00:01<00:00,  5.76it/s, loss=tensor(4.4169, device='cuda:0\n",
      "Epoch 63: 100%|█| 6/6 [00:01<00:00,  5.76it/s, loss=tensor(4.4103, device='cuda:0\n",
      "Epoch 64: 100%|█| 6/6 [00:01<00:00,  5.74it/s, loss=tensor(4.4035, device='cuda:0\n",
      "Epoch 65: 100%|█| 6/6 [00:00<00:00,  6.14it/s, loss=tensor(4.3966, device='cuda:0\n",
      "Epoch 66: 100%|█| 6/6 [00:01<00:00,  5.72it/s, loss=tensor(4.3897, device='cuda:0\n",
      "Epoch 67: 100%|█| 6/6 [00:01<00:00,  5.71it/s, loss=tensor(4.3830, device='cuda:0\n",
      "Epoch 68: 100%|█| 6/6 [00:00<00:00,  6.20it/s, loss=tensor(4.3762, device='cuda:0\n",
      "Epoch 69: 100%|█| 6/6 [00:01<00:00,  5.83it/s, loss=tensor(4.3694, device='cuda:0\n",
      "Epoch 70: 100%|█| 6/6 [00:00<00:00,  6.29it/s, loss=tensor(4.3628, device='cuda:0\n",
      "Epoch 71: 100%|█| 6/6 [00:00<00:00,  6.04it/s, loss=tensor(4.3563, device='cuda:0\n",
      "Epoch 72: 100%|█| 6/6 [00:00<00:00,  6.28it/s, loss=tensor(4.3499, device='cuda:0\n",
      "Epoch 73: 100%|█| 6/6 [00:01<00:00,  5.89it/s, loss=tensor(4.3436, device='cuda:0\n",
      "Epoch 74: 100%|█| 6/6 [00:01<00:00,  5.88it/s, loss=tensor(4.3376, device='cuda:0\n",
      "Epoch 75: 100%|█| 6/6 [00:01<00:00,  5.77it/s, loss=tensor(4.3314, device='cuda:0\n",
      "Epoch 76: 100%|█| 6/6 [00:01<00:00,  5.87it/s, loss=tensor(4.3254, device='cuda:0\n",
      "Epoch 77: 100%|█| 6/6 [00:01<00:00,  5.99it/s, loss=tensor(4.3195, device='cuda:0\n",
      "Epoch 78: 100%|█| 6/6 [00:01<00:00,  5.78it/s, loss=tensor(4.3137, device='cuda:0\n",
      "Epoch 79: 100%|█| 6/6 [00:00<00:00,  6.06it/s, loss=tensor(4.3079, device='cuda:0\n",
      "Epoch 80: 100%|█| 6/6 [00:01<00:00,  5.76it/s, loss=tensor(4.3023, device='cuda:0\n",
      "Epoch 81: 100%|█| 6/6 [00:00<00:00,  6.16it/s, loss=tensor(4.2968, device='cuda:0\n",
      "Epoch 82: 100%|█| 6/6 [00:01<00:00,  5.60it/s, loss=tensor(4.2914, device='cuda:0\n",
      "Epoch 83: 100%|█| 6/6 [00:01<00:00,  5.88it/s, loss=tensor(4.2862, device='cuda:0\n",
      "Epoch 84: 100%|█| 6/6 [00:01<00:00,  5.76it/s, loss=tensor(4.2807, device='cuda:0\n",
      "Epoch 85: 100%|█| 6/6 [00:00<00:00,  6.23it/s, loss=tensor(4.2756, device='cuda:0\n",
      "Epoch 86: 100%|█| 6/6 [00:01<00:00,  5.77it/s, loss=tensor(4.2704, device='cuda:0\n",
      "Epoch 87: 100%|█| 6/6 [00:00<00:00,  6.10it/s, loss=tensor(4.2651, device='cuda:0\n",
      "Epoch 88: 100%|█| 6/6 [00:01<00:00,  5.90it/s, loss=tensor(4.2598, device='cuda:0\n",
      "Epoch 89: 100%|█| 6/6 [00:01<00:00,  5.75it/s, loss=tensor(4.2544, device='cuda:0\n",
      "Epoch 90: 100%|█| 6/6 [00:00<00:00,  6.29it/s, loss=tensor(4.2490, device='cuda:0\n",
      "Epoch 91: 100%|█| 6/6 [00:00<00:00,  6.11it/s, loss=tensor(4.2437, device='cuda:0\n",
      "Epoch 92: 100%|█| 6/6 [00:01<00:00,  5.69it/s, loss=tensor(4.2383, device='cuda:0\n",
      "Epoch 93: 100%|█| 6/6 [00:01<00:00,  5.92it/s, loss=tensor(4.2329, device='cuda:0\n",
      "Epoch 94: 100%|█| 6/6 [00:00<00:00,  6.12it/s, loss=tensor(4.2278, device='cuda:0\n",
      "Epoch 95: 100%|█| 6/6 [00:01<00:00,  5.81it/s, loss=tensor(4.2226, device='cuda:0\n",
      "Epoch 96: 100%|█| 6/6 [00:01<00:00,  5.83it/s, loss=tensor(4.2172, device='cuda:0\n",
      "Epoch 97: 100%|█| 6/6 [00:01<00:00,  5.92it/s, loss=tensor(4.2119, device='cuda:0\n",
      "Epoch 98: 100%|█| 6/6 [00:00<00:00,  6.26it/s, loss=tensor(4.2068, device='cuda:0\n",
      "Epoch 99: 100%|█| 6/6 [00:01<00:00,  5.66it/s, loss=tensor(4.2013, device='cuda:0\n",
      "Epoch 100: 100%|█| 6/6 [00:00<00:00,  6.07it/s, loss=tensor(4.1960, device='cuda:\n",
      "Epoch 101: 100%|█| 6/6 [00:01<00:00,  5.92it/s, loss=tensor(4.1909, device='cuda:\n",
      "Epoch 102: 100%|█| 6/6 [00:00<00:00,  6.06it/s, loss=tensor(4.1852, device='cuda:\n",
      "Epoch 103: 100%|█| 6/6 [00:01<00:00,  5.49it/s, loss=tensor(4.1799, device='cuda:\n",
      "Epoch 104: 100%|█| 6/6 [00:01<00:00,  5.76it/s, loss=tensor(4.1741, device='cuda:\n",
      "Epoch 105: 100%|█| 6/6 [00:01<00:00,  5.34it/s, loss=tensor(4.1689, device='cuda:\n",
      "Epoch 106: 100%|█| 6/6 [00:00<00:00,  6.03it/s, loss=tensor(4.1635, device='cuda:\n",
      "Epoch 107: 100%|█| 6/6 [00:01<00:00,  5.63it/s, loss=tensor(4.1584, device='cuda:\n",
      "Epoch 108: 100%|█| 6/6 [00:01<00:00,  5.99it/s, loss=tensor(4.1529, device='cuda:\n",
      "Epoch 109: 100%|█| 6/6 [00:01<00:00,  6.00it/s, loss=tensor(4.1478, device='cuda:\n",
      "Epoch 110: 100%|█| 6/6 [00:01<00:00,  5.85it/s, loss=tensor(4.1428, device='cuda:\n",
      "Epoch 111: 100%|█| 6/6 [00:01<00:00,  5.74it/s, loss=tensor(4.1380, device='cuda:\n",
      "Epoch 112: 100%|█| 6/6 [00:01<00:00,  5.93it/s, loss=tensor(4.1338, device='cuda:\n",
      "Epoch 113: 100%|█| 6/6 [00:01<00:00,  5.82it/s, loss=tensor(4.1290, device='cuda:\n",
      "Epoch 114: 100%|█| 6/6 [00:00<00:00,  6.07it/s, loss=tensor(4.1241, device='cuda:\n",
      "Epoch 115: 100%|█| 6/6 [00:01<00:00,  5.88it/s, loss=tensor(4.1192, device='cuda:\n",
      "Epoch 116: 100%|█| 6/6 [00:00<00:00,  6.02it/s, loss=tensor(4.1142, device='cuda:\n",
      "Epoch 117: 100%|█| 6/6 [00:00<00:00,  6.05it/s, loss=tensor(4.1088, device='cuda:\n",
      "Epoch 118: 100%|█| 6/6 [00:00<00:00,  6.07it/s, loss=tensor(4.1031, device='cuda:\n",
      "Epoch 119: 100%|█| 6/6 [00:00<00:00,  6.37it/s, loss=tensor(4.0971, device='cuda:\n",
      "Epoch 120: 100%|█| 6/6 [00:01<00:00,  5.90it/s, loss=tensor(4.0902, device='cuda:\n",
      "Epoch 121: 100%|█| 6/6 [00:01<00:00,  5.78it/s, loss=tensor(4.0824, device='cuda:\n",
      "Epoch 122: 100%|█| 6/6 [00:01<00:00,  5.97it/s, loss=tensor(4.0734, device='cuda:\n",
      "Epoch 123: 100%|█| 6/6 [00:00<00:00,  6.18it/s, loss=tensor(4.0631, device='cuda:\n",
      "Epoch 124: 100%|█| 6/6 [00:01<00:00,  5.77it/s, loss=tensor(4.0513, device='cuda:\n",
      "Epoch 125: 100%|█| 6/6 [00:01<00:00,  5.82it/s, loss=tensor(4.0383, device='cuda:\n",
      "Epoch 126: 100%|█| 6/6 [00:01<00:00,  6.00it/s, loss=tensor(4.0270, device='cuda:\n",
      "Epoch 127: 100%|█| 6/6 [00:01<00:00,  5.86it/s, loss=tensor(4.0222, device='cuda:\n",
      "Epoch 128: 100%|█| 6/6 [00:01<00:00,  5.74it/s, loss=tensor(4.0271, device='cuda:\n",
      "Epoch 129: 100%|█| 6/6 [00:00<00:00,  6.05it/s, loss=tensor(4.0303, device='cuda:\n",
      "Epoch 130: 100%|█| 6/6 [00:00<00:00,  6.30it/s, loss=tensor(4.0224, device='cuda:\n",
      "Epoch 131: 100%|█| 6/6 [00:00<00:00,  6.42it/s, loss=tensor(4.0087, device='cuda:\n",
      "Epoch 132: 100%|█| 6/6 [00:00<00:00,  6.18it/s, loss=tensor(3.9949, device='cuda:\n",
      "Epoch 133: 100%|█| 6/6 [00:00<00:00,  6.19it/s, loss=tensor(3.9828, device='cuda:\n",
      "Epoch 134: 100%|█| 6/6 [00:00<00:00,  6.02it/s, loss=tensor(3.9699, device='cuda:\n",
      "Epoch 135: 100%|█| 6/6 [00:01<00:00,  5.71it/s, loss=tensor(3.9524, device='cuda:\n",
      "Epoch 136: 100%|█| 6/6 [00:00<00:00,  6.04it/s, loss=tensor(3.9326, device='cuda:\n",
      "Epoch 137: 100%|█| 6/6 [00:01<00:00,  5.67it/s, loss=tensor(3.9077, device='cuda:\n",
      "Epoch 138: 100%|█| 6/6 [00:00<00:00,  6.05it/s, loss=tensor(3.8802, device='cuda:\n",
      "Epoch 139: 100%|█| 6/6 [00:01<00:00,  5.85it/s, loss=tensor(3.8492, device='cuda:\n",
      "Epoch 140: 100%|█| 6/6 [00:01<00:00,  5.83it/s, loss=tensor(3.8154, device='cuda:\n",
      "Epoch 141: 100%|█| 6/6 [00:00<00:00,  6.15it/s, loss=tensor(3.7797, device='cuda:\n",
      "Epoch 142: 100%|█| 6/6 [00:01<00:00,  5.91it/s, loss=tensor(3.7463, device='cuda:\n",
      "Epoch 143: 100%|█| 6/6 [00:00<00:00,  6.09it/s, loss=tensor(3.7189, device='cuda:\n",
      "Epoch 144: 100%|█| 6/6 [00:01<00:00,  5.36it/s, loss=tensor(3.6962, device='cuda:\n",
      "Epoch 145: 100%|█| 6/6 [00:00<00:00,  6.10it/s, loss=tensor(3.6747, device='cuda:\n",
      "Epoch 146: 100%|█| 6/6 [00:00<00:00,  6.07it/s, loss=tensor(3.6511, device='cuda:\n",
      "Epoch 147: 100%|█| 6/6 [00:01<00:00,  5.96it/s, loss=tensor(3.6239, device='cuda:\n",
      "Epoch 148: 100%|█| 6/6 [00:00<00:00,  6.21it/s, loss=tensor(3.5909, device='cuda:\n",
      "Epoch 149: 100%|█| 6/6 [00:00<00:00,  6.20it/s, loss=tensor(3.5512, device='cuda:\n",
      "Epoch 150: 100%|█| 6/6 [00:00<00:00,  6.46it/s, loss=tensor(3.5030, device='cuda:\n",
      "Epoch 151: 100%|█| 6/6 [00:01<00:00,  5.97it/s, loss=tensor(3.4469, device='cuda:\n",
      "Epoch 152: 100%|█| 6/6 [00:01<00:00,  5.56it/s, loss=tensor(3.4134, device='cuda:\n",
      "Epoch 153: 100%|█| 6/6 [00:01<00:00,  5.95it/s, loss=tensor(3.4022, device='cuda:\n",
      "Epoch 154: 100%|█| 6/6 [00:00<00:00,  6.22it/s, loss=tensor(3.3986, device='cuda:\n",
      "Epoch 155: 100%|█| 6/6 [00:01<00:00,  5.88it/s, loss=tensor(3.3931, device='cuda:\n",
      "Epoch 156: 100%|█| 6/6 [00:01<00:00,  5.89it/s, loss=tensor(3.3844, device='cuda:\n",
      "Epoch 157: 100%|█| 6/6 [00:01<00:00,  5.49it/s, loss=tensor(3.3742, device='cuda:\n",
      "Epoch 158: 100%|█| 6/6 [00:01<00:00,  5.91it/s, loss=tensor(3.3633, device='cuda:\n",
      "Epoch 159: 100%|█| 6/6 [00:00<00:00,  6.15it/s, loss=tensor(3.3525, device='cuda:\n",
      "Epoch 160: 100%|█| 6/6 [00:01<00:00,  5.86it/s, loss=tensor(3.3409, device='cuda:\n",
      "Epoch 161: 100%|█| 6/6 [00:00<00:00,  6.20it/s, loss=tensor(3.3285, device='cuda:\n",
      "Epoch 162: 100%|█| 6/6 [00:00<00:00,  6.17it/s, loss=tensor(3.3151, device='cuda:\n",
      "Epoch 163: 100%|█| 6/6 [00:00<00:00,  6.41it/s, loss=tensor(3.3011, device='cuda:\n",
      "Epoch 164: 100%|█| 6/6 [00:01<00:00,  5.94it/s, loss=tensor(3.2867, device='cuda:\n",
      "Epoch 165: 100%|█| 6/6 [00:00<00:00,  6.59it/s, loss=tensor(3.2707, device='cuda:\n",
      "Epoch 166: 100%|█| 6/6 [00:00<00:00,  6.04it/s, loss=tensor(3.2528, device='cuda:\n",
      "Epoch 167: 100%|█| 6/6 [00:01<00:00,  5.93it/s, loss=tensor(3.2342, device='cuda:\n",
      "Epoch 168: 100%|█| 6/6 [00:01<00:00,  5.49it/s, loss=tensor(3.2142, device='cuda:\n",
      "Epoch 169: 100%|█| 6/6 [00:00<00:00,  6.02it/s, loss=tensor(3.1937, device='cuda:\n",
      "Epoch 170: 100%|█| 6/6 [00:01<00:00,  5.89it/s, loss=tensor(3.1732, device='cuda:\n",
      "Epoch 171: 100%|█| 6/6 [00:00<00:00,  6.01it/s, loss=tensor(3.1512, device='cuda:\n",
      "Epoch 172: 100%|█| 6/6 [00:01<00:00,  5.83it/s, loss=tensor(3.1258, device='cuda:\n",
      "Epoch 173: 100%|█| 6/6 [00:01<00:00,  5.89it/s, loss=tensor(3.1035, device='cuda:\n",
      "Epoch 174: 100%|█| 6/6 [00:01<00:00,  5.89it/s, loss=tensor(3.0868, device='cuda:\n",
      "Epoch 175: 100%|█| 6/6 [00:00<00:00,  6.01it/s, loss=tensor(3.0699, device='cuda:\n",
      "Epoch 176: 100%|█| 6/6 [00:00<00:00,  6.15it/s, loss=tensor(3.0511, device='cuda:\n",
      "Epoch 177: 100%|█| 6/6 [00:01<00:00,  5.89it/s, loss=tensor(3.0325, device='cuda:\n",
      "Epoch 178: 100%|█| 6/6 [00:01<00:00,  5.73it/s, loss=tensor(3.0129, device='cuda:\n",
      "Epoch 179: 100%|█| 6/6 [00:01<00:00,  6.00it/s, loss=tensor(2.9858, device='cuda:\n",
      "Epoch 180: 100%|█| 6/6 [00:00<00:00,  6.50it/s, loss=tensor(2.9571, device='cuda:\n",
      "Epoch 181: 100%|█| 6/6 [00:01<00:00,  5.94it/s, loss=tensor(2.9282, device='cuda:\n",
      "Epoch 182: 100%|█| 6/6 [00:00<00:00,  6.07it/s, loss=tensor(2.8996, device='cuda:\n",
      "Epoch 183: 100%|█| 6/6 [00:00<00:00,  6.11it/s, loss=tensor(2.8731, device='cuda:\n",
      "Epoch 184: 100%|█| 6/6 [00:00<00:00,  6.02it/s, loss=tensor(2.8482, device='cuda:\n",
      "Epoch 185: 100%|█| 6/6 [00:01<00:00,  5.70it/s, loss=tensor(2.8203, device='cuda:\n",
      "Epoch 186: 100%|█| 6/6 [00:00<00:00,  6.09it/s, loss=tensor(2.7932, device='cuda:\n",
      "Epoch 187: 100%|█| 6/6 [00:01<00:00,  5.81it/s, loss=tensor(2.7644, device='cuda:\n",
      "Epoch 188: 100%|█| 6/6 [00:00<00:00,  6.12it/s, loss=tensor(2.7371, device='cuda:\n",
      "Epoch 189: 100%|█| 6/6 [00:00<00:00,  6.02it/s, loss=tensor(2.7120, device='cuda:\n",
      "Epoch 190: 100%|█| 6/6 [00:01<00:00,  5.95it/s, loss=tensor(2.6889, device='cuda:\n",
      "Epoch 191: 100%|█| 6/6 [00:01<00:00,  5.83it/s, loss=tensor(2.6720, device='cuda:\n",
      "Epoch 192: 100%|█| 6/6 [00:00<00:00,  6.28it/s, loss=tensor(2.6546, device='cuda:\n",
      "Epoch 193: 100%|█| 6/6 [00:00<00:00,  6.16it/s, loss=tensor(2.6375, device='cuda:\n",
      "Epoch 194: 100%|█| 6/6 [00:01<00:00,  5.85it/s, loss=tensor(2.6201, device='cuda:\n",
      "Epoch 195: 100%|█| 6/6 [00:01<00:00,  5.91it/s, loss=tensor(2.6039, device='cuda:\n",
      "Epoch 196: 100%|█| 6/6 [00:01<00:00,  5.31it/s, loss=tensor(2.5923, device='cuda:\n",
      "Epoch 197: 100%|█| 6/6 [00:00<00:00,  6.10it/s, loss=tensor(2.5807, device='cuda:\n",
      "Epoch 198: 100%|█| 6/6 [00:01<00:00,  5.86it/s, loss=tensor(2.5705, device='cuda:\n",
      "Epoch 199: 100%|█| 6/6 [00:01<00:00,  5.78it/s, loss=tensor(2.5598, device='cuda:\n"
     ]
    }
   ],
   "source": [
    "for epoch in range(epochs):\n",
    "    tepoch = tqdm.tqdm(train_loader)\n",
    "    tepoch.set_description(f\"Epoch {epoch}\")\n",
    "    \n",
    "    # For simplification purposes, we are not shuffling input samples\n",
    "    for i, obj in enumerate(tepoch):\n",
    "        data, target = obj\n",
    "\n",
    "        data, target = data.to(device), target.to(device)\n",
    "        [optimizer.zero_grad() for optimizer in optimizers]\n",
    "        \n",
    "        # Getting the outputs from all ensembles\n",
    "        outputs = [mlp(data) for mlp in models]\n",
    "        outputs = [torch.squeeze(out) for out in outputs]\n",
    "        \n",
    "        # calculate loss per model\n",
    "        out_losses = [ps_loss(output, target) for output in outputs]\n",
    "        mean_batch_ensemble_loss.append([l.item() for l in out_losses])\n",
    "\n",
    "        [out_loss.backward() for out_loss in out_losses]\n",
    "        [optimizer.step() for optimizer in optimizers]\n",
    "\n",
    "        tepoch.set_postfix(loss=sum(out_losses) / len(out_losses))\n",
    "        sleep(0.1)"
   ]
  },
  {
   "cell_type": "code",
   "execution_count": 17,
   "id": "97ed2631-2442-4631-81a6-b6874b65dfe2",
   "metadata": {},
   "outputs": [],
   "source": [
    "l = np.asarray(mean_batch_ensemble_loss)"
   ]
  },
  {
   "cell_type": "code",
   "execution_count": 18,
   "id": "f154d3b8-248c-4633-a8d7-b3f71a2b9b82",
   "metadata": {},
   "outputs": [
    {
     "data": {
      "text/plain": [
       "<AxesSubplot:>"
      ]
     },
     "execution_count": 18,
     "metadata": {},
     "output_type": "execute_result"
    },
    {
     "data": {
      "image/png": "[encoded data removed]",
      "text/plain": [
       "<Figure size 432x288 with 1 Axes>"
      ]
     },
     "metadata": {},
     "output_type": "display_data"
    }
   ],
   "source": [
    "sns.set_theme(style=\"darkgrid\")\n",
    "sns.lineplot(data=l)"
   ]
  },
  {
   "cell_type": "markdown",
   "id": "8fab4002-4f53-4e9c-b024-273319db50de",
   "metadata": {},
   "source": [
    "#### Testing the model"
   ]
  },
  {
   "cell_type": "code",
   "execution_count": 19,
   "id": "9692777f-135e-4ec7-9f01-86a1b88f0caa",
   "metadata": {},
   "outputs": [],
   "source": [
    "dt_test = HouseDataset(test, scale=True)\n",
    "test_loader = torch.utils.data.DataLoader(dt_test, batch_size=batch_size, num_workers=2)"
   ]
  },
  {
   "cell_type": "code",
   "execution_count": 20,
   "id": "65fab7fb-01d1-4f71-8c86-91cbafe407f3",
   "metadata": {},
   "outputs": [
    {
     "data": {
      "text/plain": [
       "[MLP(\n",
       "   (layers): Sequential(\n",
       "     (0): Linear(in_features=6, out_features=64, bias=True)\n",
       "     (1): ReLU()\n",
       "     (2): Linear(in_features=64, out_features=128, bias=True)\n",
       "     (3): ReLU()\n",
       "     (4): Linear(in_features=128, out_features=64, bias=True)\n",
       "     (5): ReLU()\n",
       "     (6): Linear(in_features=64, out_features=32, bias=True)\n",
       "     (7): ReLU()\n",
       "     (8): Linear(in_features=32, out_features=2, bias=True)\n",
       "   )\n",
       " ),\n",
       " MLP(\n",
       "   (layers): Sequential(\n",
       "     (0): Linear(in_features=6, out_features=64, bias=True)\n",
       "     (1): ReLU()\n",
       "     (2): Linear(in_features=64, out_features=128, bias=True)\n",
       "     (3): ReLU()\n",
       "     (4): Linear(in_features=128, out_features=64, bias=True)\n",
       "     (5): ReLU()\n",
       "     (6): Linear(in_features=64, out_features=32, bias=True)\n",
       "     (7): ReLU()\n",
       "     (8): Linear(in_features=32, out_features=2, bias=True)\n",
       "   )\n",
       " ),\n",
       " MLP(\n",
       "   (layers): Sequential(\n",
       "     (0): Linear(in_features=6, out_features=64, bias=True)\n",
       "     (1): ReLU()\n",
       "     (2): Linear(in_features=64, out_features=128, bias=True)\n",
       "     (3): ReLU()\n",
       "     (4): Linear(in_features=128, out_features=64, bias=True)\n",
       "     (5): ReLU()\n",
       "     (6): Linear(in_features=64, out_features=32, bias=True)\n",
       "     (7): ReLU()\n",
       "     (8): Linear(in_features=32, out_features=2, bias=True)\n",
       "   )\n",
       " ),\n",
       " MLP(\n",
       "   (layers): Sequential(\n",
       "     (0): Linear(in_features=6, out_features=64, bias=True)\n",
       "     (1): ReLU()\n",
       "     (2): Linear(in_features=64, out_features=128, bias=True)\n",
       "     (3): ReLU()\n",
       "     (4): Linear(in_features=128, out_features=64, bias=True)\n",
       "     (5): ReLU()\n",
       "     (6): Linear(in_features=64, out_features=32, bias=True)\n",
       "     (7): ReLU()\n",
       "     (8): Linear(in_features=32, out_features=2, bias=True)\n",
       "   )\n",
       " ),\n",
       " MLP(\n",
       "   (layers): Sequential(\n",
       "     (0): Linear(in_features=6, out_features=64, bias=True)\n",
       "     (1): ReLU()\n",
       "     (2): Linear(in_features=64, out_features=128, bias=True)\n",
       "     (3): ReLU()\n",
       "     (4): Linear(in_features=128, out_features=64, bias=True)\n",
       "     (5): ReLU()\n",
       "     (6): Linear(in_features=64, out_features=32, bias=True)\n",
       "     (7): ReLU()\n",
       "     (8): Linear(in_features=32, out_features=2, bias=True)\n",
       "   )\n",
       " )]"
      ]
     },
     "execution_count": 20,
     "metadata": {},
     "output_type": "execute_result"
    }
   ],
   "source": [
    "mean_batch_ensemble_loss_t = []\n",
    "p = []\n",
    "v = []\n",
    "\n",
    "[mlp.eval() for mlp in models]\n",
    "[mlp.to(device) for mlp in models]"
   ]
  },
  {
   "cell_type": "code",
   "execution_count": 21,
   "id": "7827fb8a-93d9-471a-812c-74677268b189",
   "metadata": {},
   "outputs": [],
   "source": [
    "with torch.no_grad():\n",
    "    for i, obj in enumerate(test_loader):\n",
    "        data, target = obj\n",
    "        data, target = data.to(device), target.to(device)\n",
    "\n",
    "        # outputs -> (num_models, batch_size, 2)\n",
    "        outputs = [mlp(data) for mlp in models]\n",
    "        \n",
    "        out_losses = [ps_loss(output, target) for output in outputs]\n",
    "        mean_batch_ensemble_loss_t.append([l.item() for l in out_losses])\n",
    "\n",
    "        # output -> (batch_size, 2)\n",
    "        p.append([output[:, 0].cpu().detach().numpy() for output in outputs])\n",
    "        v.append([torch.exp(0.5 * output[:, 1]).cpu().detach().numpy() for output in outputs])\n",
    "        # p -> (num_batches, batch_size, num_models)"
   ]
  },
  {
   "cell_type": "markdown",
   "id": "c5f13e99-e24b-4d77-932c-0b0d79aba592",
   "metadata": {},
   "source": [
    "#### Uncertainty Quantification\n",
    "\n",
    "Each ensembled model outputs its own $\\mu$ and $\\sigma$ that are the moments of a Gaussian distribution. We will treat our final predictive distribution as an equally-weighted mixture of Gaussians."
   ]
  },
  {
   "cell_type": "markdown",
   "id": "49889f4f-ba31-4aad-b490-1b86d0517456",
   "metadata": {},
   "source": [
    "$$ p(y | x) = M^{-1} \\sum_{m=1}^M p_{\\theta_m} (y | x, \\theta_m) $$"
   ]
  },
  {
   "cell_type": "markdown",
   "id": "b7b08825-c7e8-4153-ae3e-0b59b5bd150f",
   "metadata": {},
   "source": [
    "We approximate the final predictive distribution as a Gaussian distribution with its mean and variance equal to the mixture model's moments."
   ]
  },
  {
   "cell_type": "markdown",
   "id": "f56c4cd8-5e09-4508-beb7-3c46cd78c5be",
   "metadata": {},
   "source": [
    "$$ \\mu_*(x) = M^{-1} \\sum_{m=1}^M \\mu_{\\theta_m}(x) $$\n",
    "\n",
    "$$ \\sigma^2_*(x) = M^{-1} \\sum_{m=1}^M (\\sigma^2_{\\theta_m} (x) + \\mu^2_{\\theta_m} (x)) - \\mu^2_* (x) $$"
   ]
  },
  {
   "cell_type": "code",
   "execution_count": 22,
   "id": "8aea42f7-9d2e-4203-b51e-6564acae527f",
   "metadata": {},
   "outputs": [
    {
     "data": {
      "text/plain": [
       "(5, 83)"
      ]
     },
     "execution_count": 22,
     "metadata": {},
     "output_type": "execute_result"
    }
   ],
   "source": [
    "mean = [np.append(p[0][i][:], p[1][i][:]) for i in range(0, num_models)]\n",
    "mean = np.array(mean)\n",
    "mean.shape"
   ]
  },
  {
   "cell_type": "code",
   "execution_count": 23,
   "id": "13bb6146-8a08-4699-8eed-f75b0b8ca2fe",
   "metadata": {},
   "outputs": [
    {
     "data": {
      "text/plain": [
       "(5, 83)"
      ]
     },
     "execution_count": 23,
     "metadata": {},
     "output_type": "execute_result"
    }
   ],
   "source": [
    "var = [np.append(v[0][i][:], v[1][i][:]) for i in range(0, num_models)]\n",
    "var = np.array(var)\n",
    "var.shape"
   ]
  },
  {
   "cell_type": "code",
   "execution_count": 24,
   "id": "7e22488f-39ca-4a4a-aeb6-0d5cae2213e6",
   "metadata": {},
   "outputs": [],
   "source": [
    "#A Gaussian at each point\n",
    "def approx_mixture_gaussian(mean, var):\n",
    "    mean_s = (1 / num_models) * np.sum(mean, axis=0)\n",
    "    var_s = (1 / num_models) * np.sum((var ** 2 + mean ** 2), axis=0) - (mean_s ** 2)\n",
    "    \n",
    "    return mean_s, var_s"
   ]
  },
  {
   "cell_type": "code",
   "execution_count": 25,
   "id": "3e56afb2-7a49-420d-99d2-cb5629784849",
   "metadata": {},
   "outputs": [
    {
     "data": {
      "text/plain": [
       "((83,), (83,))"
      ]
     },
     "execution_count": 25,
     "metadata": {},
     "output_type": "execute_result"
    }
   ],
   "source": [
    "mixture_mean, mixture_var = approx_mixture_gaussian(mean, var)\n",
    "mixture_mean.shape, mixture_var.shape"
   ]
  },
  {
   "cell_type": "code",
   "execution_count": 26,
   "id": "6d3fcfdd-e0c7-44e5-b73c-3e0babb5a249",
   "metadata": {},
   "outputs": [
    {
     "data": {
      "text/html": [
       "<div>\n",
       "<style scoped>\n",
       "    .dataframe tbody tr th:only-of-type {\n",
       "        vertical-align: middle;\n",
       "    }\n",
       "\n",
       "    .dataframe tbody tr th {\n",
       "        vertical-align: top;\n",
       "    }\n",
       "\n",
       "    .dataframe thead th {\n",
       "        text-align: right;\n",
       "    }\n",
       "</style>\n",
       "<table border=\"1\" class=\"dataframe\">\n",
       "  <thead>\n",
       "    <tr style=\"text-align: right;\">\n",
       "      <th></th>\n",
       "      <th>No</th>\n",
       "      <th>X1 transaction date</th>\n",
       "      <th>X2 house age</th>\n",
       "      <th>X3 distance to the nearest MRT station</th>\n",
       "      <th>X4 number of convenience stores</th>\n",
       "      <th>X5 latitude</th>\n",
       "      <th>X6 longitude</th>\n",
       "      <th>Y house price of unit area</th>\n",
       "      <th>pred</th>\n",
       "      <th>var</th>\n",
       "    </tr>\n",
       "  </thead>\n",
       "  <tbody>\n",
       "    <tr>\n",
       "      <th>321</th>\n",
       "      <td>322</td>\n",
       "      <td>2012.917</td>\n",
       "      <td>16.9</td>\n",
       "      <td>964.74960</td>\n",
       "      <td>4</td>\n",
       "      <td>24.98872</td>\n",
       "      <td>121.53411</td>\n",
       "      <td>37.7</td>\n",
       "      <td>34.160763</td>\n",
       "      <td>20.601786</td>\n",
       "    </tr>\n",
       "    <tr>\n",
       "      <th>214</th>\n",
       "      <td>215</td>\n",
       "      <td>2013.583</td>\n",
       "      <td>18.1</td>\n",
       "      <td>1783.18000</td>\n",
       "      <td>3</td>\n",
       "      <td>24.96731</td>\n",
       "      <td>121.51486</td>\n",
       "      <td>20.9</td>\n",
       "      <td>25.398046</td>\n",
       "      <td>13.222746</td>\n",
       "    </tr>\n",
       "    <tr>\n",
       "      <th>145</th>\n",
       "      <td>146</td>\n",
       "      <td>2012.917</td>\n",
       "      <td>2.1</td>\n",
       "      <td>451.24380</td>\n",
       "      <td>5</td>\n",
       "      <td>24.97563</td>\n",
       "      <td>121.54694</td>\n",
       "      <td>45.5</td>\n",
       "      <td>41.154263</td>\n",
       "      <td>23.004919</td>\n",
       "    </tr>\n",
       "    <tr>\n",
       "      <th>99</th>\n",
       "      <td>100</td>\n",
       "      <td>2013.417</td>\n",
       "      <td>6.4</td>\n",
       "      <td>90.45606</td>\n",
       "      <td>9</td>\n",
       "      <td>24.97433</td>\n",
       "      <td>121.54310</td>\n",
       "      <td>62.2</td>\n",
       "      <td>45.832047</td>\n",
       "      <td>27.394697</td>\n",
       "    </tr>\n",
       "    <tr>\n",
       "      <th>106</th>\n",
       "      <td>107</td>\n",
       "      <td>2013.083</td>\n",
       "      <td>17.2</td>\n",
       "      <td>189.51810</td>\n",
       "      <td>8</td>\n",
       "      <td>24.97707</td>\n",
       "      <td>121.54308</td>\n",
       "      <td>47.1</td>\n",
       "      <td>37.656502</td>\n",
       "      <td>20.762695</td>\n",
       "    </tr>\n",
       "    <tr>\n",
       "      <th>...</th>\n",
       "      <td>...</td>\n",
       "      <td>...</td>\n",
       "      <td>...</td>\n",
       "      <td>...</td>\n",
       "      <td>...</td>\n",
       "      <td>...</td>\n",
       "      <td>...</td>\n",
       "      <td>...</td>\n",
       "      <td>...</td>\n",
       "      <td>...</td>\n",
       "    </tr>\n",
       "    <tr>\n",
       "      <th>23</th>\n",
       "      <td>24</td>\n",
       "      <td>2013.083</td>\n",
       "      <td>10.1</td>\n",
       "      <td>279.17260</td>\n",
       "      <td>7</td>\n",
       "      <td>24.97528</td>\n",
       "      <td>121.54541</td>\n",
       "      <td>47.9</td>\n",
       "      <td>39.330147</td>\n",
       "      <td>21.896925</td>\n",
       "    </tr>\n",
       "    <tr>\n",
       "      <th>195</th>\n",
       "      <td>196</td>\n",
       "      <td>2013.333</td>\n",
       "      <td>15.2</td>\n",
       "      <td>461.10160</td>\n",
       "      <td>5</td>\n",
       "      <td>24.95425</td>\n",
       "      <td>121.53990</td>\n",
       "      <td>34.6</td>\n",
       "      <td>32.105930</td>\n",
       "      <td>17.296589</td>\n",
       "    </tr>\n",
       "    <tr>\n",
       "      <th>116</th>\n",
       "      <td>117</td>\n",
       "      <td>2013.000</td>\n",
       "      <td>30.9</td>\n",
       "      <td>6396.28300</td>\n",
       "      <td>1</td>\n",
       "      <td>24.94375</td>\n",
       "      <td>121.47883</td>\n",
       "      <td>12.2</td>\n",
       "      <td>14.395180</td>\n",
       "      <td>5.935243</td>\n",
       "    </tr>\n",
       "    <tr>\n",
       "      <th>286</th>\n",
       "      <td>287</td>\n",
       "      <td>2012.917</td>\n",
       "      <td>5.9</td>\n",
       "      <td>90.45606</td>\n",
       "      <td>9</td>\n",
       "      <td>24.97433</td>\n",
       "      <td>121.54310</td>\n",
       "      <td>56.3</td>\n",
       "      <td>43.686390</td>\n",
       "      <td>24.921989</td>\n",
       "    </tr>\n",
       "    <tr>\n",
       "      <th>400</th>\n",
       "      <td>401</td>\n",
       "      <td>2013.250</td>\n",
       "      <td>26.8</td>\n",
       "      <td>482.75810</td>\n",
       "      <td>5</td>\n",
       "      <td>24.97433</td>\n",
       "      <td>121.53863</td>\n",
       "      <td>35.5</td>\n",
       "      <td>31.297089</td>\n",
       "      <td>16.322746</td>\n",
       "    </tr>\n",
       "  </tbody>\n",
       "</table>\n",
       "<p>83 rows × 10 columns</p>\n",
       "</div>"
      ],
      "text/plain": [
       "      No  X1 transaction date  X2 house age  \\\n",
       "321  322             2012.917          16.9   \n",
       "214  215             2013.583          18.1   \n",
       "145  146             2012.917           2.1   \n",
       "99   100             2013.417           6.4   \n",
       "106  107             2013.083          17.2   \n",
       "..   ...                  ...           ...   \n",
       "23    24             2013.083          10.1   \n",
       "195  196             2013.333          15.2   \n",
       "116  117             2013.000          30.9   \n",
       "286  287             2012.917           5.9   \n",
       "400  401             2013.250          26.8   \n",
       "\n",
       "     X3 distance to the nearest MRT station  X4 number of convenience stores  \\\n",
       "321                               964.74960                                4   \n",
       "214                              1783.18000                                3   \n",
       "145                               451.24380                                5   \n",
       "99                                 90.45606                                9   \n",
       "106                               189.51810                                8   \n",
       "..                                      ...                              ...   \n",
       "23                                279.17260                                7   \n",
       "195                               461.10160                                5   \n",
       "116                              6396.28300                                1   \n",
       "286                                90.45606                                9   \n",
       "400                               482.75810                                5   \n",
       "\n",
       "     X5 latitude  X6 longitude  Y house price of unit area       pred  \\\n",
       "321     24.98872     121.53411                        37.7  34.160763   \n",
       "214     24.96731     121.51486                        20.9  25.398046   \n",
       "145     24.97563     121.54694                        45.5  41.154263   \n",
       "99      24.97433     121.54310                        62.2  45.832047   \n",
       "106     24.97707     121.54308                        47.1  37.656502   \n",
       "..           ...           ...                         ...        ...   \n",
       "23      24.97528     121.54541                        47.9  39.330147   \n",
       "195     24.95425     121.53990                        34.6  32.105930   \n",
       "116     24.94375     121.47883                        12.2  14.395180   \n",
       "286     24.97433     121.54310                        56.3  43.686390   \n",
       "400     24.97433     121.53863                        35.5  31.297089   \n",
       "\n",
       "           var  \n",
       "321  20.601786  \n",
       "214  13.222746  \n",
       "145  23.004919  \n",
       "99   27.394697  \n",
       "106  20.762695  \n",
       "..         ...  \n",
       "23   21.896925  \n",
       "195  17.296589  \n",
       "116   5.935243  \n",
       "286  24.921989  \n",
       "400  16.322746  \n",
       "\n",
       "[83 rows x 10 columns]"
      ]
     },
     "execution_count": 26,
     "metadata": {},
     "output_type": "execute_result"
    }
   ],
   "source": [
    "plot_df = test.copy()\n",
    "plot_df['pred'] = mixture_mean\n",
    "plot_df['var'] = np.sqrt(mixture_var)\n",
    "plot_df"
   ]
  },
  {
   "cell_type": "code",
   "execution_count": 27,
   "id": "a774be16-4750-45de-9a3d-a84faaa6a4fd",
   "metadata": {},
   "outputs": [],
   "source": [
    "plot_df['upper'] = plot_df['pred'] + plot_df['var']\n",
    "plot_df['lower'] = plot_df['pred'] - plot_df['var']"
   ]
  },
  {
   "cell_type": "code",
   "execution_count": 28,
   "id": "1bb0b649-4fc1-478e-8fd1-30cbec2ffb0a",
   "metadata": {},
   "outputs": [
    {
     "data": {
      "text/plain": [
       "<matplotlib.collections.PolyCollection at 0x7f711d26e050>"
      ]
     },
     "execution_count": 28,
     "metadata": {},
     "output_type": "execute_result"
    },
    {
     "data": {
      "image/png": "[encoded data removed]",
      "text/plain": [
       "<Figure size 360x360 with 1 Axes>"
      ]
     },
     "metadata": {},
     "output_type": "display_data"
    }
   ],
   "source": [
    "plot_df = plot_df.sort_values(by=['X2 house age'])\n",
    "sns.set_theme(style=\"darkgrid\")\n",
    "sns.relplot(data=plot_df, x=\"X2 house age\", y=\"Y house price of unit area\")\n",
    "ax = sns.lineplot(data=plot_df, x=\"X2 house age\", y=\"pred\")\n",
    "ax.fill_between(plot_df['X2 house age'], plot_df['lower'], plot_df['upper'], alpha=0.25)"
   ]
  },
  {
   "cell_type": "code",
   "execution_count": 29,
   "id": "3499f192-215d-4fb0-983c-0b44434886a6",
   "metadata": {},
   "outputs": [
    {
     "data": {
      "text/plain": [
       "<matplotlib.collections.PolyCollection at 0x7f711d289b40>"
      ]
     },
     "execution_count": 29,
     "metadata": {},
     "output_type": "execute_result"
    },
    {
     "data": {
      "image/png": "[encoded data removed]",
      "text/plain": [
       "<Figure size 360x360 with 1 Axes>"
      ]
     },
     "metadata": {},
     "output_type": "display_data"
    }
   ],
   "source": [
    "plot_df = plot_df.sort_values(by=['X3 distance to the nearest MRT station'])\n",
    "sns.set_theme(style=\"darkgrid\")\n",
    "sns.relplot(data=plot_df, x=\"X3 distance to the nearest MRT station\", y=\"Y house price of unit area\")\n",
    "ax = sns.lineplot(data=plot_df, x=\"X3 distance to the nearest MRT station\", y=\"pred\")\n",
    "ax.fill_between(plot_df['X3 distance to the nearest MRT station'], plot_df['lower'], plot_df['upper'], alpha=0.25)"
   ]
  },
  {
   "cell_type": "code",
   "execution_count": 30,
   "id": "72784fd3-c1a0-4c07-a6f3-2fffcaaed476",
   "metadata": {},
   "outputs": [
    {
     "data": {
      "text/plain": [
       "<matplotlib.collections.PolyCollection at 0x7f711d2e8af0>"
      ]
     },
     "execution_count": 30,
     "metadata": {},
     "output_type": "execute_result"
    },
    {
     "data": {
      "image/png": "[encoded data removed]",
      "text/plain": [
       "<Figure size 360x360 with 1 Axes>"
      ]
     },
     "metadata": {},
     "output_type": "display_data"
    }
   ],
   "source": [
    "plot_df = plot_df.sort_values(by=['X4 number of convenience stores'])\n",
    "sns.set_theme(style=\"darkgrid\")\n",
    "sns.relplot(data=plot_df, x=\"X4 number of convenience stores\", y=\"Y house price of unit area\")\n",
    "ax = sns.lineplot(data=plot_df, x=\"X4 number of convenience stores\", y=\"pred\", errorbar=None)\n",
    "ax.fill_between(plot_df['X4 number of convenience stores'], plot_df['lower'], plot_df['upper'], alpha=0.25, step='mid')"
   ]
  }
 ],
 "metadata": {
  "kernelspec": {
   "display_name": "Python 3 (ipykernel)",
   "language": "python",
   "name": "python3"
  },
  "language_info": {
   "codemirror_mode": {
    "name": "ipython",
    "version": 3
   },
   "file_extension": ".py",
   "mimetype": "text/x-python",
   "name": "python",
   "nbconvert_exporter": "python",
   "pygments_lexer": "ipython3",
   "version": "3.10.4"
  }
 },
 "nbformat": 4,
 "nbformat_minor": 5
}
